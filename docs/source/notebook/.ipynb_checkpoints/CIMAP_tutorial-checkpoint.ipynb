{
 "cells": [
  {
   "cell_type": "markdown",
   "id": "ec071cac",
   "metadata": {},
   "source": [
    "# CIMAP Algorithm Application Example\n",
    " \n",
    " In this tutorial we are going to make an example of application of CIMAP algorithm to some data.\n",
    " The Data is stored in the folder \\example_data under the name \"Dataset.csv\". The data is an example of the data that can be used with CIMAP.\n",
    " \n",
    " First be sure you have installed the CIMAP using ```pip install CIMAP``` command.\n"
   ]
  },
  {
   "cell_type": "code",
   "execution_count": 1,
   "id": "59412db9",
   "metadata": {},
   "outputs": [],
   "source": [
    "# import of the library\n",
    "from CIMAP import CIMAP\n",
    "# To simply run the algorithm without making all the steps is possible to use the method CIMAP.Run(). This method allows the user to choose the input data file and run all the methods at once."
   ]
  },
  {
   "cell_type": "markdown",
   "id": "60c4e0ee",
   "metadata": {},
   "source": [
    "### Application of the Algorithm\n",
    "The first step of the algorithm is loading the data using the *Input* method, in this case we set the path of the input_file, otherwise a window that allows manual selection is opened. Then the identification of the activation intervals edges is performed to transform them into percentage values of the cycle performed by the *Intervals* method. The *Intervals* is never explicitly used but is a fundamental part of most of the methods that are called. The second method that is applied is the *RemoveAddints* method. It performs cleaning on the data removing two elements. The first element removed are those gaps or activation intervals in the cycles that are shorter than 3% of the gait cycles. This value is defined as biomechanocally non relevant activation for motion puropose. The second element removed are those cycle that present a monotone behavior over the whole duration of the cycle (i.e., the cycle is always active or there is no activation over the cycle)."
   ]
  },
  {
   "cell_type": "code",
   "execution_count": 2,
   "id": "f2213c84",
   "metadata": {},
   "outputs": [
    {
     "ename": "FileNotFoundError",
     "evalue": "[Errno 2] No such file or directory: '.\\\\example_data\\\\Dataset.csv'",
     "output_type": "error",
     "traceback": [
      "\u001b[1;31m---------------------------------------------------------------------------\u001b[0m",
      "\u001b[1;31mFileNotFoundError\u001b[0m                         Traceback (most recent call last)",
      "Cell \u001b[1;32mIn [2], line 3\u001b[0m\n\u001b[0;32m      1\u001b[0m input_file \u001b[38;5;241m=\u001b[39m \u001b[38;5;124m\"\u001b[39m\u001b[38;5;124m.\u001b[39m\u001b[38;5;130;01m\\\\\u001b[39;00m\u001b[38;5;124mexample_data\u001b[39m\u001b[38;5;130;01m\\\\\u001b[39;00m\u001b[38;5;124mDataset.csv\u001b[39m\u001b[38;5;124m\"\u001b[39m\n\u001b[0;32m      2\u001b[0m \u001b[38;5;66;03m# Reading of the input_file and creation of the utility dictionaries s and muscles\u001b[39;00m\n\u001b[1;32m----> 3\u001b[0m s,muscles \u001b[38;5;241m=\u001b[39m \u001b[43mCIMAP\u001b[49m\u001b[38;5;241;43m.\u001b[39;49m\u001b[43mInput\u001b[49m\u001b[43m(\u001b[49m\u001b[43minput_file\u001b[49m\u001b[43m \u001b[49m\u001b[38;5;241;43m=\u001b[39;49m\u001b[43m \u001b[49m\u001b[43minput_file\u001b[49m\u001b[43m)\u001b[49m\n\u001b[0;32m      4\u001b[0m \u001b[38;5;66;03m# Removal of the small intervals/gaps and the always-on/off cycles\u001b[39;00m\n\u001b[0;32m      5\u001b[0m s \u001b[38;5;241m=\u001b[39m CIMAP\u001b[38;5;241m.\u001b[39mRemoveAddints(s)\n",
      "File \u001b[1;32m~\\AppData\\Local\\Programs\\Python\\Python310\\lib\\site-packages\\CIMAP\\CIMAP.py:127\u001b[0m, in \u001b[0;36mInput\u001b[1;34m(input_file)\u001b[0m\n\u001b[0;32m    119\u001b[0m \u001b[38;5;124;03m'''Method that takes the input of CIMAP and prepares the data structures for the application of CIMAP Algorithm.\u001b[39;00m\n\u001b[0;32m    120\u001b[0m \u001b[38;5;124;03m\u001b[39;00m\n\u001b[0;32m    121\u001b[0m \u001b[38;5;124;03m:Input: * **input_file** (*string*): a string containing the path of the *.csv* file that contains the input data for the application of CIMAP. Be sure that the input data respects the requirements set in the Data Requirements section of the documentation.\u001b[39;00m\n\u001b[0;32m    122\u001b[0m \u001b[38;5;124;03m\u001b[39;00m\n\u001b[0;32m    123\u001b[0m \u001b[38;5;124;03m:Return: * **s** (*dict*): data structure of CIMAP that is used for the application of the methods of the algorithm.\u001b[39;00m\n\u001b[0;32m    124\u001b[0m \u001b[38;5;124;03m         * **muscles** (*dict*): dictionary containing the information about the data that is given as input to CIMAP. Specifically the muscles, if the acquisition is bilateral and the position where to retrieve the cycles.'''\u001b[39;00m\n\u001b[0;32m    126\u001b[0m \u001b[38;5;66;03m# Application of the ausiliary method that reads the data from the *.csv* file and transforms it into the dictionary that is used in the following methods.\u001b[39;00m\n\u001b[1;32m--> 127\u001b[0m s \u001b[38;5;241m=\u001b[39m \u001b[43m_csv2dict\u001b[49m\u001b[43m(\u001b[49m\u001b[43minput_file\u001b[49m\u001b[43m)\u001b[49m\n\u001b[0;32m    130\u001b[0m \u001b[38;5;66;03m# check that the field \"Cycles\" exists and is corectly labeled\u001b[39;00m\n\u001b[0;32m    131\u001b[0m keys \u001b[38;5;241m=\u001b[39m \u001b[38;5;28mlist\u001b[39m(s\u001b[38;5;241m.\u001b[39mkeys())\n",
      "File \u001b[1;32m~\\AppData\\Local\\Programs\\Python\\Python310\\lib\\site-packages\\CIMAP\\CIMAP.py:194\u001b[0m, in \u001b[0;36m_csv2dict\u001b[1;34m(input_file)\u001b[0m\n\u001b[0;32m    192\u001b[0m \u001b[38;5;124;03m''' Ausiliary method that opens and reads the contents of the *.csv* file and rearranges it for the application of CIMAP '''\u001b[39;00m\n\u001b[0;32m    193\u001b[0m labels,cycles \u001b[38;5;241m=\u001b[39m [],[]\n\u001b[1;32m--> 194\u001b[0m \u001b[38;5;28;01mwith\u001b[39;00m \u001b[38;5;28;43mopen\u001b[39;49m\u001b[43m(\u001b[49m\u001b[43minput_file\u001b[49m\u001b[43m,\u001b[49m\u001b[38;5;124;43m'\u001b[39;49m\u001b[38;5;124;43mr\u001b[39;49m\u001b[38;5;124;43m'\u001b[39;49m\u001b[43m)\u001b[49m \u001b[38;5;28;01mas\u001b[39;00m file:\n\u001b[0;32m    195\u001b[0m     csvreader \u001b[38;5;241m=\u001b[39m csv\u001b[38;5;241m.\u001b[39mreader(file)\n\u001b[0;32m    196\u001b[0m     \u001b[38;5;28;01mfor\u001b[39;00m row \u001b[38;5;129;01min\u001b[39;00m csvreader:\n\u001b[0;32m    197\u001b[0m         \u001b[38;5;66;03m# checking that we are importing muscle data and not the header of the file\u001b[39;00m\n",
      "\u001b[1;31mFileNotFoundError\u001b[0m: [Errno 2] No such file or directory: '.\\\\example_data\\\\Dataset.csv'"
     ]
    }
   ],
   "source": [
    "input_file = \".\\\\example_data\\\\Dataset.csv\"\n",
    "# Reading of the input_file and creation of the utility dictionaries s and muscles\n",
    "s,muscles = CIMAP.Input(input_file = input_file)\n",
    "# Removal of the small intervals/gaps and the always-on/off cycles\n",
    "s = CIMAP.RemoveAddints(s)"
   ]
  },
  {
   "cell_type": "markdown",
   "id": "92b9f81b",
   "metadata": {},
   "source": [
    "Then the cycles are divied by modality, i.e. the number of activation intervals whithin a cycle identify the modality (e.g., a cycles with n activation intervals is a n-modality cycle) to have higher homogeneity in the elaboration (*ModalityDivision* method).\n",
    "After the division in modalities the clustering is performed on each modality separately, only on the modalities that present a sufficient number of cycles (*Dendrograms* Method). The threshold Th on the minimum number of cycles per modality to perform clustering is set to Th = 10, as it was recently to showed to not influence significantly the results and allows the application to low number of cycles acquisitions (Dotti et al.). For each modality two dendrograms, one for each possible distance metric that are used, are built using the “complete” method (i.e., using the farthest distance between every pair of elements). Two distance metrics are used (Manhattan and Chebyshev) because during the optimization process was demostrated that neither perfomed significantly better than the other."
   ]
  },
  {
   "cell_type": "code",
   "execution_count": null,
   "id": "2512cae2",
   "metadata": {},
   "outputs": [],
   "source": [
    "# Division of the cycles by modality\n",
    "muscles = CIMAP.ModalityDivision(s,muscles)\n",
    "# Construction of the Dendrograms\n",
    "muscles = CIMAP.Dendrograms(muscles)"
   ]
  },
  {
   "cell_type": "markdown",
   "id": "6e96aa2e",
   "metadata": {},
   "source": [
    "After the construction of the dendrograms the optimal number of cluster must be chosen. This is performed by the \"Cuts\" method.\n",
    "This method uses the \"FindCuts\" function to choose automatically the optimal cutting points using three different criteria evaluating the difference in distance of the merged clusters considering the difference of inter-cluster distance between consecutive iterations. Of the three so created cutoff points the best one is identified by finding the one that shows the best compromise between low intra-cluster variability and a high number of cycles included in the significant clusters (clusters with more than one element). After the choice of the best cutoff, the best clustering obtain from the two distance metrics is identified. The distance metrics is chosen as the one the shows the lowest mean similarity between the centroid and the cluster elements.\n",
    "Then the \"Ouput\" is applied to distribute the results of the clustering between the sides if the data given as input was bilateral and reordered in a structure that identifies the non significant and the significant clusters divided by modality."
   ]
  },
  {
   "cell_type": "code",
   "execution_count": null,
   "id": "70c7c486",
   "metadata": {},
   "outputs": [],
   "source": [
    "# Identification of the best distance and cutting point of the dendrograms\n",
    "muscles = CIMAP.Cuts(muscles)\n",
    "# Distribution and reordering of the results\n",
    "cimap_out = CIMAP.Output(s,muscles)"
   ]
  },
  {
   "cell_type": "markdown",
   "id": "81f8f631",
   "metadata": {},
   "source": [
    "The results from clustering can be elaborated for the extraction of the principal activations using the \"PAsExtraction\" method. First, the significant clusters are identified as those clusters that contain more than 10% of the total number of cycles that were considered as significant in the previous elaboration. Subsequently the principal activations are extracted as the intersection of the activation intervals of the prototypes from the significant clusters."
   ]
  },
  {
   "cell_type": "code",
   "execution_count": null,
   "id": "0ad5939b",
   "metadata": {},
   "outputs": [],
   "source": [
    "# Extraction of the Principal Activations\n",
    "cimap_pas = CIMAP.PAsExtraction(cimap_out)"
   ]
  },
  {
   "cell_type": "markdown",
   "id": "f072a364",
   "metadata": {},
   "source": [
    "#### Graphical functions\n",
    "The *targetgraph* method is used to select only what to show graphically. To change it modify the Target as input to the function with one of the following options: \"TA\", \"LGS\", \"RF\", \"LH\", \"GMD\".\n",
    "The first function used is *actplot* that shows all the activation profiles stored in the starting structure in the temporal sequence that they are given."
   ]
  },
  {
   "cell_type": "code",
   "execution_count": null,
   "id": "00f5fdd0",
   "metadata": {},
   "outputs": [],
   "source": [
    "# Graph of the activation profiles of the cycles\n",
    "\n",
    "plotting = CIMAP.targetgraph(s,Target = \"LGS\")\n",
    "CIMAP.actplot(plotting)\n",
    "plt.show()"
   ]
  },
  {
   "cell_type": "markdown",
   "id": "ecfbf41a",
   "metadata": {},
   "source": [
    "The method *modality_distribution* is used to show the distribution of the cycles over the modalities."
   ]
  },
  {
   "cell_type": "code",
   "execution_count": null,
   "id": "94c9ff0b",
   "metadata": {},
   "outputs": [],
   "source": [
    "# Graph of the distribution over modalities of the cycles\n",
    "plotting = CIMAP.targetgraph(s,Target = \"LGS\")\n",
    "CIMAP.modality_distribution(plotting)\n",
    "plt.show()"
   ]
  },
  {
   "cell_type": "markdown",
   "id": "f9ce335c",
   "metadata": {},
   "source": [
    "The method *dendroplot* shows the dendrograms built with the coloration related to the chosen cutting point."
   ]
  },
  {
   "cell_type": "code",
   "execution_count": null,
   "id": "0cd33911",
   "metadata": {},
   "outputs": [],
   "source": [
    "# Graph of the dendrograms\n",
    "plotting = CIMAP.targetgraph(muscles,Target = \"LGS\")\n",
    "CIMAP.dendroplot(plotting)\n",
    "plt.show()"
   ]
  },
  {
   "cell_type": "markdown",
   "id": "75fe6886",
   "metadata": {},
   "source": [
    "The method *clustersplot* shows the clustering results. There is the option *color = True* as optional input to the function that colours the clusters matching the colors on the dendrograms."
   ]
  },
  {
   "cell_type": "code",
   "execution_count": null,
   "id": "b9ff8db3",
   "metadata": {
    "scrolled": false
   },
   "outputs": [],
   "source": [
    "# Graph of the cluster over modalities\n",
    "\n",
    "plotting = CIMAP.targetgraph(cimap_out,Target = \"LGS\")\n",
    "CIMAP.clustersplot(plotting)\n",
    "plt.show()"
   ]
  },
  {
   "cell_type": "markdown",
   "id": "d84c1b33",
   "metadata": {},
   "source": [
    "The method *PAsActivationsPlot* shows the results of the extraction of the Principal Activations. There is the option *color = True* as optional input to the function that colours the clusters matching the colors on the dendrograms."
   ]
  },
  {
   "cell_type": "code",
   "execution_count": null,
   "id": "c7f449f7",
   "metadata": {},
   "outputs": [],
   "source": [
    "# Graph of the result of the Principal Activations extraction\n",
    "plotting = CIMAP.targetgraph(cimap_pas,Target = \"LGS\")\n",
    "CIMAP.PAsActivationsPlot(plotting)\n",
    "plt.show()"
   ]
  },
  {
   "cell_type": "code",
   "execution_count": null,
   "id": "27740ff0",
   "metadata": {},
   "outputs": [],
   "source": []
  }
 ],
 "metadata": {
  "kernelspec": {
   "display_name": "Python 3 (ipykernel)",
   "language": "python",
   "name": "python3"
  },
  "language_info": {
   "codemirror_mode": {
    "name": "ipython",
    "version": 3
   },
   "file_extension": ".py",
   "mimetype": "text/x-python",
   "name": "python",
   "nbconvert_exporter": "python",
   "pygments_lexer": "ipython3",
   "version": "3.10.7"
  }
 },
 "nbformat": 4,
 "nbformat_minor": 5
}
